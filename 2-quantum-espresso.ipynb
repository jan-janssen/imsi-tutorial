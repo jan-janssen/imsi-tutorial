{
 "cells": [
  {
   "cell_type": "code",
   "execution_count": 1,
   "metadata": {},
   "outputs": [],
   "source": [
    "import os"
   ]
  },
  {
   "cell_type": "code",
   "execution_count": 2,
   "metadata": {},
   "outputs": [],
   "source": [
    "import matplotlib.pyplot as plt\n",
    "import numpy as np"
   ]
  },
  {
   "cell_type": "code",
   "execution_count": 3,
   "metadata": {},
   "outputs": [],
   "source": [
    "import cloudpickle"
   ]
  },
  {
   "cell_type": "code",
   "execution_count": 4,
   "metadata": {},
   "outputs": [],
   "source": [
    "from ase.build import bulk\n",
    "from ase.calculators.espresso import Espresso\n",
    "from ase.io import write\n",
    "from pwtools import io"
   ]
  },
  {
   "cell_type": "markdown",
   "metadata": {},
   "source": [
    "# Functions"
   ]
  },
  {
   "cell_type": "code",
   "execution_count": 5,
   "metadata": {},
   "outputs": [],
   "source": [
    "def write_input(input_dict, working_directory=\".\"):\n",
    "    filename = os.path.join(working_directory, 'input.pwi')\n",
    "    os.makedirs(working_directory, exist_ok=True)\n",
    "    write(\n",
    "        filename=filename, \n",
    "        images=input_dict[\"structure\"], \n",
    "        Crystal=True, \n",
    "        kpts=input_dict[\"kpts\"], \n",
    "        input_data={\"calculation\": input_dict[\"calculation\"]}, \n",
    "        pseudopotentials=input_dict[\"pseudopotentials\"],\n",
    "        tstress=True, \n",
    "        tprnfor=True\n",
    "    )"
   ]
  },
  {
   "cell_type": "code",
   "execution_count": 6,
   "metadata": {},
   "outputs": [],
   "source": [
    "def collect_output(working_directory=\".\"):\n",
    "    filename = os.path.join(working_directory, 'output.pwo')\n",
    "    try:\n",
    "        return {\"structure\": io.read_pw_md(filename)[-1].get_ase_atoms()}\n",
    "    except TypeError:\n",
    "        out = io.read_pw_scf(filename)\n",
    "        return {\n",
    "            \"energy\": out.etot,\n",
    "            \"volume\": out.volume,\n",
    "        }"
   ]
  },
  {
   "cell_type": "code",
   "execution_count": 7,
   "metadata": {},
   "outputs": [],
   "source": [
    "def workflow(project, structure): \n",
    "    # Structure optimization \n",
    "    job_qe_minimize = pr.create.job.QEJob(job_name=\"qe_relax\")\n",
    "    job_qe_minimize.input[\"calculation\"] = \"vc-relax\"\n",
    "    job_qe_minimize.input.structure = structure\n",
    "    job_qe_minimize.run()\n",
    "    structure_opt = job_qe_minimize.output.structure\n",
    "\n",
    "    # Energy Volume Curve \n",
    "    energy_lst, volume_lst = [], []\n",
    "    for i, strain in enumerate(np.linspace(0.9, 1.1, 5)):\n",
    "        structure_strain = structure_opt.copy()\n",
    "        structure_strain = structure.copy()\n",
    "        structure_strain.set_cell(\n",
    "            structure_strain.cell * strain**(1/3), \n",
    "            scale_atoms=True\n",
    "        )\n",
    "        job_strain = pr.create.job.QEJob(\n",
    "            job_name=\"job_strain_\" + str(i)\n",
    "        )\n",
    "        job_strain.input.structure = structure_strain\n",
    "        job_strain.run(delete_existing_job=True)\n",
    "        energy_lst.append(job_strain.output.energy)\n",
    "        volume_lst.append(job_strain.output.volume)\n",
    "    \n",
    "    return {\"volume\": volume_lst, \"energy\": energy_lst}"
   ]
  },
  {
   "cell_type": "markdown",
   "metadata": {},
   "source": [
    "# Setup"
   ]
  },
  {
   "cell_type": "code",
   "execution_count": 8,
   "metadata": {},
   "outputs": [],
   "source": [
    "from pyiron_base import Project"
   ]
  },
  {
   "cell_type": "code",
   "execution_count": 9,
   "metadata": {},
   "outputs": [
    {
     "data": {
      "application/vnd.jupyter.widget-view+json": {
       "model_id": "af8d573bb9f24f6c9ecac39253c2a77f",
       "version_major": 2,
       "version_minor": 0
      },
      "text/plain": [
       "  0%|          | 0/1 [00:00<?, ?it/s]"
      ]
     },
     "metadata": {},
     "output_type": "display_data"
    }
   ],
   "source": [
    "pr = Project(\"test\")\n",
    "pr.remove_jobs(recursive=True, silently=True)"
   ]
  },
  {
   "cell_type": "code",
   "execution_count": 10,
   "metadata": {},
   "outputs": [],
   "source": [
    "pr.create_job_class(\n",
    "    class_name=\"QEJob\",\n",
    "    write_input_funct=write_input,\n",
    "    collect_output_funct=collect_output,\n",
    "    default_input_dict={  # Default Parameter \n",
    "        \"structure\": None, \n",
    "        \"pseudopotentials\": {\"Al\": \"Al.pbe-n-kjpaw_psl.1.0.0.UPF\"}, \n",
    "        \"kpts\": (3, 3, 3),\n",
    "        \"calculation\": \"scf\",          \n",
    "    },\n",
    "    executable_str=\"mpirun -np 1 pw.x -in input.pwi > output.pwo\",\n",
    ")"
   ]
  },
  {
   "cell_type": "markdown",
   "metadata": {},
   "source": [
    "# Workflow"
   ]
  },
  {
   "cell_type": "code",
   "execution_count": 11,
   "metadata": {},
   "outputs": [
    {
     "name": "stdout",
     "output_type": "stream",
     "text": [
      "The job workflow03694dd7212df2149c3b1779f0287a50 was saved and received the ID: 1\n",
      "The job qe_relax was saved and received the ID: 2\n",
      "The job job_strain_0 was saved and received the ID: 3\n",
      "The job job_strain_1 was saved and received the ID: 4\n",
      "The job job_strain_2 was saved and received the ID: 5\n",
      "The job job_strain_3 was saved and received the ID: 6\n",
      "The job job_strain_4 was saved and received the ID: 7\n"
     ]
    }
   ],
   "source": [
    "job_workflow = pr.wrap_python_function(workflow)\n",
    "job_workflow.input.project = pr\n",
    "job_workflow.input.structure = bulk('Al', a=4.15, cubic=True)\n",
    "job_workflow.run()"
   ]
  },
  {
   "cell_type": "markdown",
   "metadata": {},
   "source": [
    "# Result"
   ]
  },
  {
   "cell_type": "code",
   "execution_count": 12,
   "metadata": {},
   "outputs": [
    {
     "data": {
      "text/plain": [
       "Text(0, 0.5, 'Energy')"
      ]
     },
     "execution_count": 12,
     "metadata": {},
     "output_type": "execute_result"
    },
    {
     "data": {
      "image/png": "[encoded data removed]",
      "text/plain": [
       "<Figure size 640x480 with 1 Axes>"
      ]
     },
     "metadata": {},
     "output_type": "display_data"
    }
   ],
   "source": [
    "plt.plot(job_workflow.output.result[\"volume\"], job_workflow.output.result[\"energy\"])\n",
    "plt.xlabel(\"Volume\")\n",
    "plt.ylabel(\"Energy\")"
   ]
  },
  {
   "cell_type": "markdown",
   "metadata": {},
   "source": [
    "# Summary"
   ]
  },
  {
   "cell_type": "code",
   "execution_count": 13,
   "metadata": {},
   "outputs": [
    {
     "data": {
      "text/html": [
       "<div>\n",
       "<style scoped>\n",
       "    .dataframe tbody tr th:only-of-type {\n",
       "        vertical-align: middle;\n",
       "    }\n",
       "\n",
       "    .dataframe tbody tr th {\n",
       "        vertical-align: top;\n",
       "    }\n",
       "\n",
       "    .dataframe thead th {\n",
       "        text-align: right;\n",
       "    }\n",
       "</style>\n",
       "<table border=\"1\" class=\"dataframe\">\n",
       "  <thead>\n",
       "    <tr style=\"text-align: right;\">\n",
       "      <th></th>\n",
       "      <th>id</th>\n",
       "      <th>status</th>\n",
       "      <th>chemicalformula</th>\n",
       "      <th>job</th>\n",
       "      <th>subjob</th>\n",
       "      <th>projectpath</th>\n",
       "      <th>project</th>\n",
       "      <th>timestart</th>\n",
       "      <th>timestop</th>\n",
       "      <th>totalcputime</th>\n",
       "      <th>computer</th>\n",
       "      <th>hamilton</th>\n",
       "      <th>hamversion</th>\n",
       "      <th>parentid</th>\n",
       "      <th>masterid</th>\n",
       "    </tr>\n",
       "  </thead>\n",
       "  <tbody>\n",
       "    <tr>\n",
       "      <th>0</th>\n",
       "      <td>1</td>\n",
       "      <td>finished</td>\n",
       "      <td>None</td>\n",
       "      <td>workflow03694dd7212df2149c3b1779f0287a50</td>\n",
       "      <td>/workflow03694dd7212df2149c3b1779f0287a50</td>\n",
       "      <td>None</td>\n",
       "      <td>/home/janssen/notebooks/2024/2024-01-13-wrap-executable-in-job/test/</td>\n",
       "      <td>2024-01-14 13:29:29.543031</td>\n",
       "      <td>NaT</td>\n",
       "      <td>NaN</td>\n",
       "      <td>pyiron@cmpc06#1</td>\n",
       "      <td>PythonFunctionContainerJob</td>\n",
       "      <td>0.4</td>\n",
       "      <td>None</td>\n",
       "      <td>None</td>\n",
       "    </tr>\n",
       "    <tr>\n",
       "      <th>1</th>\n",
       "      <td>2</td>\n",
       "      <td>finished</td>\n",
       "      <td>None</td>\n",
       "      <td>qe_relax</td>\n",
       "      <td>/qe_relax</td>\n",
       "      <td>None</td>\n",
       "      <td>/home/janssen/notebooks/2024/2024-01-13-wrap-executable-in-job/test/</td>\n",
       "      <td>2024-01-14 13:29:30.058577</td>\n",
       "      <td>2024-01-14 13:31:17.431079</td>\n",
       "      <td>107.0</td>\n",
       "      <td>pyiron@cmpc06#1</td>\n",
       "      <td>ExecutableContainerJob</td>\n",
       "      <td>0.4</td>\n",
       "      <td>None</td>\n",
       "      <td>None</td>\n",
       "    </tr>\n",
       "    <tr>\n",
       "      <th>2</th>\n",
       "      <td>3</td>\n",
       "      <td>finished</td>\n",
       "      <td>None</td>\n",
       "      <td>job_strain_0</td>\n",
       "      <td>/job_strain_0</td>\n",
       "      <td>None</td>\n",
       "      <td>/home/janssen/notebooks/2024/2024-01-13-wrap-executable-in-job/test/</td>\n",
       "      <td>2024-01-14 13:31:17.916403</td>\n",
       "      <td>2024-01-14 13:31:53.540681</td>\n",
       "      <td>35.0</td>\n",
       "      <td>pyiron@cmpc06#1</td>\n",
       "      <td>ExecutableContainerJob</td>\n",
       "      <td>0.4</td>\n",
       "      <td>None</td>\n",
       "      <td>None</td>\n",
       "    </tr>\n",
       "    <tr>\n",
       "      <th>3</th>\n",
       "      <td>4</td>\n",
       "      <td>finished</td>\n",
       "      <td>None</td>\n",
       "      <td>job_strain_1</td>\n",
       "      <td>/job_strain_1</td>\n",
       "      <td>None</td>\n",
       "      <td>/home/janssen/notebooks/2024/2024-01-13-wrap-executable-in-job/test/</td>\n",
       "      <td>2024-01-14 13:31:53.966056</td>\n",
       "      <td>2024-01-14 13:32:41.229255</td>\n",
       "      <td>47.0</td>\n",
       "      <td>pyiron@cmpc06#1</td>\n",
       "      <td>ExecutableContainerJob</td>\n",
       "      <td>0.4</td>\n",
       "      <td>None</td>\n",
       "      <td>None</td>\n",
       "    </tr>\n",
       "    <tr>\n",
       "      <th>4</th>\n",
       "      <td>5</td>\n",
       "      <td>finished</td>\n",
       "      <td>None</td>\n",
       "      <td>job_strain_2</td>\n",
       "      <td>/job_strain_2</td>\n",
       "      <td>None</td>\n",
       "      <td>/home/janssen/notebooks/2024/2024-01-13-wrap-executable-in-job/test/</td>\n",
       "      <td>2024-01-14 13:32:41.806799</td>\n",
       "      <td>2024-01-14 13:33:04.313537</td>\n",
       "      <td>22.0</td>\n",
       "      <td>pyiron@cmpc06#1</td>\n",
       "      <td>ExecutableContainerJob</td>\n",
       "      <td>0.4</td>\n",
       "      <td>None</td>\n",
       "      <td>None</td>\n",
       "    </tr>\n",
       "    <tr>\n",
       "      <th>5</th>\n",
       "      <td>6</td>\n",
       "      <td>finished</td>\n",
       "      <td>None</td>\n",
       "      <td>job_strain_3</td>\n",
       "      <td>/job_strain_3</td>\n",
       "      <td>None</td>\n",
       "      <td>/home/janssen/notebooks/2024/2024-01-13-wrap-executable-in-job/test/</td>\n",
       "      <td>2024-01-14 13:33:04.812476</td>\n",
       "      <td>2024-01-14 13:33:12.363023</td>\n",
       "      <td>7.0</td>\n",
       "      <td>pyiron@cmpc06#1</td>\n",
       "      <td>ExecutableContainerJob</td>\n",
       "      <td>0.4</td>\n",
       "      <td>None</td>\n",
       "      <td>None</td>\n",
       "    </tr>\n",
       "    <tr>\n",
       "      <th>6</th>\n",
       "      <td>7</td>\n",
       "      <td>finished</td>\n",
       "      <td>None</td>\n",
       "      <td>job_strain_4</td>\n",
       "      <td>/job_strain_4</td>\n",
       "      <td>None</td>\n",
       "      <td>/home/janssen/notebooks/2024/2024-01-13-wrap-executable-in-job/test/</td>\n",
       "      <td>2024-01-14 13:33:12.871400</td>\n",
       "      <td>2024-01-14 13:33:30.008489</td>\n",
       "      <td>17.0</td>\n",
       "      <td>pyiron@cmpc06#1</td>\n",
       "      <td>ExecutableContainerJob</td>\n",
       "      <td>0.4</td>\n",
       "      <td>None</td>\n",
       "      <td>None</td>\n",
       "    </tr>\n",
       "  </tbody>\n",
       "</table>\n",
       "</div>"
      ],
      "text/plain": [
       "   id    status chemicalformula                                       job  \\\n",
       "0   1  finished            None  workflow03694dd7212df2149c3b1779f0287a50   \n",
       "1   2  finished            None                                  qe_relax   \n",
       "2   3  finished            None                              job_strain_0   \n",
       "3   4  finished            None                              job_strain_1   \n",
       "4   5  finished            None                              job_strain_2   \n",
       "5   6  finished            None                              job_strain_3   \n",
       "6   7  finished            None                              job_strain_4   \n",
       "\n",
       "                                      subjob projectpath  \\\n",
       "0  /workflow03694dd7212df2149c3b1779f0287a50        None   \n",
       "1                                  /qe_relax        None   \n",
       "2                              /job_strain_0        None   \n",
       "3                              /job_strain_1        None   \n",
       "4                              /job_strain_2        None   \n",
       "5                              /job_strain_3        None   \n",
       "6                              /job_strain_4        None   \n",
       "\n",
       "                                                                project  \\\n",
       "0  /home/janssen/notebooks/2024/2024-01-13-wrap-executable-in-job/test/   \n",
       "1  /home/janssen/notebooks/2024/2024-01-13-wrap-executable-in-job/test/   \n",
       "2  /home/janssen/notebooks/2024/2024-01-13-wrap-executable-in-job/test/   \n",
       "3  /home/janssen/notebooks/2024/2024-01-13-wrap-executable-in-job/test/   \n",
       "4  /home/janssen/notebooks/2024/2024-01-13-wrap-executable-in-job/test/   \n",
       "5  /home/janssen/notebooks/2024/2024-01-13-wrap-executable-in-job/test/   \n",
       "6  /home/janssen/notebooks/2024/2024-01-13-wrap-executable-in-job/test/   \n",
       "\n",
       "                   timestart                   timestop  totalcputime  \\\n",
       "0 2024-01-14 13:29:29.543031                        NaT           NaN   \n",
       "1 2024-01-14 13:29:30.058577 2024-01-14 13:31:17.431079         107.0   \n",
       "2 2024-01-14 13:31:17.916403 2024-01-14 13:31:53.540681          35.0   \n",
       "3 2024-01-14 13:31:53.966056 2024-01-14 13:32:41.229255          47.0   \n",
       "4 2024-01-14 13:32:41.806799 2024-01-14 13:33:04.313537          22.0   \n",
       "5 2024-01-14 13:33:04.812476 2024-01-14 13:33:12.363023           7.0   \n",
       "6 2024-01-14 13:33:12.871400 2024-01-14 13:33:30.008489          17.0   \n",
       "\n",
       "          computer                    hamilton hamversion parentid masterid  \n",
       "0  pyiron@cmpc06#1  PythonFunctionContainerJob        0.4     None     None  \n",
       "1  pyiron@cmpc06#1      ExecutableContainerJob        0.4     None     None  \n",
       "2  pyiron@cmpc06#1      ExecutableContainerJob        0.4     None     None  \n",
       "3  pyiron@cmpc06#1      ExecutableContainerJob        0.4     None     None  \n",
       "4  pyiron@cmpc06#1      ExecutableContainerJob        0.4     None     None  \n",
       "5  pyiron@cmpc06#1      ExecutableContainerJob        0.4     None     None  \n",
       "6  pyiron@cmpc06#1      ExecutableContainerJob        0.4     None     None  "
      ]
     },
     "execution_count": 13,
     "metadata": {},
     "output_type": "execute_result"
    }
   ],
   "source": [
    "pr.job_table()"
   ]
  },
  {
   "cell_type": "code",
   "execution_count": null,
   "metadata": {},
   "outputs": [],
   "source": []
  }
 ],
 "metadata": {
  "kernelspec": {
   "display_name": "Python 3 (ipykernel)",
   "language": "python",
   "name": "python3"
  },
  "language_info": {
   "codemirror_mode": {
    "name": "ipython",
    "version": 3
   },
   "file_extension": ".py",
   "mimetype": "text/x-python",
   "name": "python",
   "nbconvert_exporter": "python",
   "pygments_lexer": "ipython3",
   "version": "3.11.7"
  }
 },
 "nbformat": 4,
 "nbformat_minor": 4
}
